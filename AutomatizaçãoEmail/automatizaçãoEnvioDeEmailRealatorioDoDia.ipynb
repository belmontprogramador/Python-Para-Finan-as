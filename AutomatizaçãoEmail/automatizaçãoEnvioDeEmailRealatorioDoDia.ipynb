{
 "cells": [
  {
   "attachments": {},
   "cell_type": "markdown",
   "metadata": {},
   "source": [
    "Passo 1: Importando os módulos necessários"
   ]
  },
  {
   "cell_type": "code",
   "execution_count": 2,
   "metadata": {},
   "outputs": [],
   "source": [
    "import pandas as pd\n",
    "import datetime \n",
    "import yfinance as yf\n",
    "from matplotlib import pyplot as plt\n",
    "import mplcyberpunk\n",
    "import smtplib \n",
    "from email.message import EmailMessage\n",
    "\n"
   ]
  },
  {
   "attachments": {},
   "cell_type": "markdown",
   "metadata": {},
   "source": [
    "Passo 2: pegar dados no Yahho Finance"
   ]
  },
  {
   "cell_type": "code",
   "execution_count": 3,
   "metadata": {},
   "outputs": [
    {
     "name": "stdout",
     "output_type": "stream",
     "text": [
      "[*********************100%***********************]  2 of 2 completed\n"
     ]
    },
    {
     "data": {
      "text/html": [
       "<div>\n",
       "<style scoped>\n",
       "    .dataframe tbody tr th:only-of-type {\n",
       "        vertical-align: middle;\n",
       "    }\n",
       "\n",
       "    .dataframe tbody tr th {\n",
       "        vertical-align: top;\n",
       "    }\n",
       "\n",
       "    .dataframe thead tr th {\n",
       "        text-align: left;\n",
       "    }\n",
       "\n",
       "    .dataframe thead tr:last-of-type th {\n",
       "        text-align: right;\n",
       "    }\n",
       "</style>\n",
       "<table border=\"1\" class=\"dataframe\">\n",
       "  <thead>\n",
       "    <tr>\n",
       "      <th></th>\n",
       "      <th colspan=\"2\" halign=\"left\">Adj Close</th>\n",
       "      <th colspan=\"2\" halign=\"left\">Close</th>\n",
       "      <th colspan=\"2\" halign=\"left\">High</th>\n",
       "      <th colspan=\"2\" halign=\"left\">Low</th>\n",
       "      <th colspan=\"2\" halign=\"left\">Open</th>\n",
       "      <th colspan=\"2\" halign=\"left\">Volume</th>\n",
       "    </tr>\n",
       "    <tr>\n",
       "      <th></th>\n",
       "      <th>BRL=X</th>\n",
       "      <th>^BVSP</th>\n",
       "      <th>BRL=X</th>\n",
       "      <th>^BVSP</th>\n",
       "      <th>BRL=X</th>\n",
       "      <th>^BVSP</th>\n",
       "      <th>BRL=X</th>\n",
       "      <th>^BVSP</th>\n",
       "      <th>BRL=X</th>\n",
       "      <th>^BVSP</th>\n",
       "      <th>BRL=X</th>\n",
       "      <th>^BVSP</th>\n",
       "    </tr>\n",
       "    <tr>\n",
       "      <th>Date</th>\n",
       "      <th></th>\n",
       "      <th></th>\n",
       "      <th></th>\n",
       "      <th></th>\n",
       "      <th></th>\n",
       "      <th></th>\n",
       "      <th></th>\n",
       "      <th></th>\n",
       "      <th></th>\n",
       "      <th></th>\n",
       "      <th></th>\n",
       "      <th></th>\n",
       "    </tr>\n",
       "  </thead>\n",
       "  <tbody>\n",
       "    <tr>\n",
       "      <th>2022-04-05</th>\n",
       "      <td>4.5938</td>\n",
       "      <td>118885.0</td>\n",
       "      <td>4.5938</td>\n",
       "      <td>118885.0</td>\n",
       "      <td>4.669100</td>\n",
       "      <td>121628.0</td>\n",
       "      <td>4.575500</td>\n",
       "      <td>118794.0</td>\n",
       "      <td>4.5938</td>\n",
       "      <td>121279.0</td>\n",
       "      <td>0</td>\n",
       "      <td>11788300.0</td>\n",
       "    </tr>\n",
       "    <tr>\n",
       "      <th>2022-04-06</th>\n",
       "      <td>4.6507</td>\n",
       "      <td>118228.0</td>\n",
       "      <td>4.6507</td>\n",
       "      <td>118228.0</td>\n",
       "      <td>4.712600</td>\n",
       "      <td>118885.0</td>\n",
       "      <td>4.647900</td>\n",
       "      <td>116791.0</td>\n",
       "      <td>4.6507</td>\n",
       "      <td>118885.0</td>\n",
       "      <td>0</td>\n",
       "      <td>13410800.0</td>\n",
       "    </tr>\n",
       "    <tr>\n",
       "      <th>2022-04-07</th>\n",
       "      <td>4.7152</td>\n",
       "      <td>118862.0</td>\n",
       "      <td>4.7152</td>\n",
       "      <td>118862.0</td>\n",
       "      <td>4.769900</td>\n",
       "      <td>119247.0</td>\n",
       "      <td>4.690400</td>\n",
       "      <td>117509.0</td>\n",
       "      <td>4.7152</td>\n",
       "      <td>118226.0</td>\n",
       "      <td>0</td>\n",
       "      <td>11520100.0</td>\n",
       "    </tr>\n",
       "    <tr>\n",
       "      <th>2022-04-08</th>\n",
       "      <td>4.7521</td>\n",
       "      <td>118322.0</td>\n",
       "      <td>4.7521</td>\n",
       "      <td>118322.0</td>\n",
       "      <td>4.791300</td>\n",
       "      <td>118868.0</td>\n",
       "      <td>4.707518</td>\n",
       "      <td>117487.0</td>\n",
       "      <td>4.7521</td>\n",
       "      <td>118861.0</td>\n",
       "      <td>0</td>\n",
       "      <td>11225800.0</td>\n",
       "    </tr>\n",
       "    <tr>\n",
       "      <th>2022-04-11</th>\n",
       "      <td>4.6981</td>\n",
       "      <td>116953.0</td>\n",
       "      <td>4.6981</td>\n",
       "      <td>116953.0</td>\n",
       "      <td>4.732600</td>\n",
       "      <td>118320.0</td>\n",
       "      <td>4.684016</td>\n",
       "      <td>116953.0</td>\n",
       "      <td>4.6980</td>\n",
       "      <td>118320.0</td>\n",
       "      <td>0</td>\n",
       "      <td>9558400.0</td>\n",
       "    </tr>\n",
       "    <tr>\n",
       "      <th>...</th>\n",
       "      <td>...</td>\n",
       "      <td>...</td>\n",
       "      <td>...</td>\n",
       "      <td>...</td>\n",
       "      <td>...</td>\n",
       "      <td>...</td>\n",
       "      <td>...</td>\n",
       "      <td>...</td>\n",
       "      <td>...</td>\n",
       "      <td>...</td>\n",
       "      <td>...</td>\n",
       "      <td>...</td>\n",
       "    </tr>\n",
       "    <tr>\n",
       "      <th>2023-03-30</th>\n",
       "      <td>5.1342</td>\n",
       "      <td>103713.0</td>\n",
       "      <td>5.1342</td>\n",
       "      <td>103713.0</td>\n",
       "      <td>5.155928</td>\n",
       "      <td>104085.0</td>\n",
       "      <td>5.077300</td>\n",
       "      <td>101796.0</td>\n",
       "      <td>5.1342</td>\n",
       "      <td>101796.0</td>\n",
       "      <td>0</td>\n",
       "      <td>14901600.0</td>\n",
       "    </tr>\n",
       "    <tr>\n",
       "      <th>2023-03-31</th>\n",
       "      <td>5.0927</td>\n",
       "      <td>101882.0</td>\n",
       "      <td>5.0927</td>\n",
       "      <td>101882.0</td>\n",
       "      <td>5.103300</td>\n",
       "      <td>104041.0</td>\n",
       "      <td>5.055200</td>\n",
       "      <td>101476.0</td>\n",
       "      <td>5.0927</td>\n",
       "      <td>103714.0</td>\n",
       "      <td>0</td>\n",
       "      <td>15111200.0</td>\n",
       "    </tr>\n",
       "    <tr>\n",
       "      <th>2023-04-03</th>\n",
       "      <td>5.0623</td>\n",
       "      <td>101506.0</td>\n",
       "      <td>5.0623</td>\n",
       "      <td>101506.0</td>\n",
       "      <td>5.075500</td>\n",
       "      <td>101916.0</td>\n",
       "      <td>5.036216</td>\n",
       "      <td>100651.0</td>\n",
       "      <td>5.0623</td>\n",
       "      <td>101883.0</td>\n",
       "      <td>0</td>\n",
       "      <td>12794800.0</td>\n",
       "    </tr>\n",
       "    <tr>\n",
       "      <th>2023-04-04</th>\n",
       "      <td>5.0631</td>\n",
       "      <td>101869.0</td>\n",
       "      <td>5.0631</td>\n",
       "      <td>101869.0</td>\n",
       "      <td>5.097600</td>\n",
       "      <td>103056.0</td>\n",
       "      <td>5.048277</td>\n",
       "      <td>101505.0</td>\n",
       "      <td>5.0631</td>\n",
       "      <td>101505.0</td>\n",
       "      <td>0</td>\n",
       "      <td>11695800.0</td>\n",
       "    </tr>\n",
       "    <tr>\n",
       "      <th>2023-04-05</th>\n",
       "      <td>5.0707</td>\n",
       "      <td>NaN</td>\n",
       "      <td>5.0707</td>\n",
       "      <td>NaN</td>\n",
       "      <td>5.074300</td>\n",
       "      <td>NaN</td>\n",
       "      <td>5.027504</td>\n",
       "      <td>NaN</td>\n",
       "      <td>5.0707</td>\n",
       "      <td>NaN</td>\n",
       "      <td>0</td>\n",
       "      <td>NaN</td>\n",
       "    </tr>\n",
       "  </tbody>\n",
       "</table>\n",
       "<p>262 rows × 12 columns</p>\n",
       "</div>"
      ],
      "text/plain": [
       "           Adj Close             Close                High            \\\n",
       "               BRL=X     ^BVSP   BRL=X     ^BVSP     BRL=X     ^BVSP   \n",
       "Date                                                                   \n",
       "2022-04-05    4.5938  118885.0  4.5938  118885.0  4.669100  121628.0   \n",
       "2022-04-06    4.6507  118228.0  4.6507  118228.0  4.712600  118885.0   \n",
       "2022-04-07    4.7152  118862.0  4.7152  118862.0  4.769900  119247.0   \n",
       "2022-04-08    4.7521  118322.0  4.7521  118322.0  4.791300  118868.0   \n",
       "2022-04-11    4.6981  116953.0  4.6981  116953.0  4.732600  118320.0   \n",
       "...              ...       ...     ...       ...       ...       ...   \n",
       "2023-03-30    5.1342  103713.0  5.1342  103713.0  5.155928  104085.0   \n",
       "2023-03-31    5.0927  101882.0  5.0927  101882.0  5.103300  104041.0   \n",
       "2023-04-03    5.0623  101506.0  5.0623  101506.0  5.075500  101916.0   \n",
       "2023-04-04    5.0631  101869.0  5.0631  101869.0  5.097600  103056.0   \n",
       "2023-04-05    5.0707       NaN  5.0707       NaN  5.074300       NaN   \n",
       "\n",
       "                 Low              Open           Volume              \n",
       "               BRL=X     ^BVSP   BRL=X     ^BVSP  BRL=X       ^BVSP  \n",
       "Date                                                                 \n",
       "2022-04-05  4.575500  118794.0  4.5938  121279.0      0  11788300.0  \n",
       "2022-04-06  4.647900  116791.0  4.6507  118885.0      0  13410800.0  \n",
       "2022-04-07  4.690400  117509.0  4.7152  118226.0      0  11520100.0  \n",
       "2022-04-08  4.707518  117487.0  4.7521  118861.0      0  11225800.0  \n",
       "2022-04-11  4.684016  116953.0  4.6980  118320.0      0   9558400.0  \n",
       "...              ...       ...     ...       ...    ...         ...  \n",
       "2023-03-30  5.077300  101796.0  5.1342  101796.0      0  14901600.0  \n",
       "2023-03-31  5.055200  101476.0  5.0927  103714.0      0  15111200.0  \n",
       "2023-04-03  5.036216  100651.0  5.0623  101883.0      0  12794800.0  \n",
       "2023-04-04  5.048277  101505.0  5.0631  101505.0      0  11695800.0  \n",
       "2023-04-05  5.027504       NaN  5.0707       NaN      0         NaN  \n",
       "\n",
       "[262 rows x 12 columns]"
      ]
     },
     "metadata": {},
     "output_type": "display_data"
    }
   ],
   "source": [
    "ativos = [\"^BVSP\", \"BRL=X\"]\n",
    "\n",
    "\n",
    "hoje = datetime.datetime.now()\n",
    "um_ano_atras = hoje - datetime.timedelta(days = 365)\n",
    "\n",
    "\n",
    "dados_mercado = yf.download(ativos, um_ano_atras, hoje)\n",
    "\n",
    "display(dados_mercado)"
   ]
  },
  {
   "attachments": {},
   "cell_type": "markdown",
   "metadata": {},
   "source": [
    "Passo 3.1: Manipular os dados - seleçao e exclusao de dados"
   ]
  },
  {
   "cell_type": "code",
   "execution_count": 4,
   "metadata": {},
   "outputs": [
    {
     "data": {
      "text/html": [
       "<div>\n",
       "<style scoped>\n",
       "    .dataframe tbody tr th:only-of-type {\n",
       "        vertical-align: middle;\n",
       "    }\n",
       "\n",
       "    .dataframe tbody tr th {\n",
       "        vertical-align: top;\n",
       "    }\n",
       "\n",
       "    .dataframe thead th {\n",
       "        text-align: right;\n",
       "    }\n",
       "</style>\n",
       "<table border=\"1\" class=\"dataframe\">\n",
       "  <thead>\n",
       "    <tr style=\"text-align: right;\">\n",
       "      <th></th>\n",
       "      <th>Dolar</th>\n",
       "      <th>Ibovespa</th>\n",
       "    </tr>\n",
       "    <tr>\n",
       "      <th>Date</th>\n",
       "      <th></th>\n",
       "      <th></th>\n",
       "    </tr>\n",
       "  </thead>\n",
       "  <tbody>\n",
       "    <tr>\n",
       "      <th>2022-04-05</th>\n",
       "      <td>4.5938</td>\n",
       "      <td>118885.0</td>\n",
       "    </tr>\n",
       "    <tr>\n",
       "      <th>2022-04-06</th>\n",
       "      <td>4.6507</td>\n",
       "      <td>118228.0</td>\n",
       "    </tr>\n",
       "    <tr>\n",
       "      <th>2022-04-07</th>\n",
       "      <td>4.7152</td>\n",
       "      <td>118862.0</td>\n",
       "    </tr>\n",
       "    <tr>\n",
       "      <th>2022-04-08</th>\n",
       "      <td>4.7521</td>\n",
       "      <td>118322.0</td>\n",
       "    </tr>\n",
       "    <tr>\n",
       "      <th>2022-04-11</th>\n",
       "      <td>4.6981</td>\n",
       "      <td>116953.0</td>\n",
       "    </tr>\n",
       "    <tr>\n",
       "      <th>...</th>\n",
       "      <td>...</td>\n",
       "      <td>...</td>\n",
       "    </tr>\n",
       "    <tr>\n",
       "      <th>2023-03-29</th>\n",
       "      <td>5.1644</td>\n",
       "      <td>101793.0</td>\n",
       "    </tr>\n",
       "    <tr>\n",
       "      <th>2023-03-30</th>\n",
       "      <td>5.1342</td>\n",
       "      <td>103713.0</td>\n",
       "    </tr>\n",
       "    <tr>\n",
       "      <th>2023-03-31</th>\n",
       "      <td>5.0927</td>\n",
       "      <td>101882.0</td>\n",
       "    </tr>\n",
       "    <tr>\n",
       "      <th>2023-04-03</th>\n",
       "      <td>5.0623</td>\n",
       "      <td>101506.0</td>\n",
       "    </tr>\n",
       "    <tr>\n",
       "      <th>2023-04-04</th>\n",
       "      <td>5.0631</td>\n",
       "      <td>101869.0</td>\n",
       "    </tr>\n",
       "  </tbody>\n",
       "</table>\n",
       "<p>251 rows × 2 columns</p>\n",
       "</div>"
      ],
      "text/plain": [
       "             Dolar  Ibovespa\n",
       "Date                        \n",
       "2022-04-05  4.5938  118885.0\n",
       "2022-04-06  4.6507  118228.0\n",
       "2022-04-07  4.7152  118862.0\n",
       "2022-04-08  4.7521  118322.0\n",
       "2022-04-11  4.6981  116953.0\n",
       "...            ...       ...\n",
       "2023-03-29  5.1644  101793.0\n",
       "2023-03-30  5.1342  103713.0\n",
       "2023-03-31  5.0927  101882.0\n",
       "2023-04-03  5.0623  101506.0\n",
       "2023-04-04  5.0631  101869.0\n",
       "\n",
       "[251 rows x 2 columns]"
      ]
     },
     "execution_count": 4,
     "metadata": {},
     "output_type": "execute_result"
    }
   ],
   "source": [
    "dados_fechamento = dados_mercado['Adj Close']\n",
    "dados_fechamento.columns = ['Dolar', 'Ibovespa']\n",
    "\n",
    "dados_fechamento = dados_fechamento.dropna()\n",
    "\n",
    "dados_fechamento"
   ]
  },
  {
   "attachments": {},
   "cell_type": "markdown",
   "metadata": {},
   "source": [
    "Passo 3.2: Manipulando os dados - Criando tabelas com outros timeframes"
   ]
  },
  {
   "cell_type": "code",
   "execution_count": 5,
   "metadata": {},
   "outputs": [
    {
     "data": {
      "text/html": [
       "<div>\n",
       "<style scoped>\n",
       "    .dataframe tbody tr th:only-of-type {\n",
       "        vertical-align: middle;\n",
       "    }\n",
       "\n",
       "    .dataframe tbody tr th {\n",
       "        vertical-align: top;\n",
       "    }\n",
       "\n",
       "    .dataframe thead th {\n",
       "        text-align: right;\n",
       "    }\n",
       "</style>\n",
       "<table border=\"1\" class=\"dataframe\">\n",
       "  <thead>\n",
       "    <tr style=\"text-align: right;\">\n",
       "      <th></th>\n",
       "      <th>Dolar</th>\n",
       "      <th>Ibovespa</th>\n",
       "    </tr>\n",
       "    <tr>\n",
       "      <th>Date</th>\n",
       "      <th></th>\n",
       "      <th></th>\n",
       "    </tr>\n",
       "  </thead>\n",
       "  <tbody>\n",
       "    <tr>\n",
       "      <th>2022-12-31</th>\n",
       "      <td>5.2668</td>\n",
       "      <td>110031.0</td>\n",
       "    </tr>\n",
       "    <tr>\n",
       "      <th>2023-12-31</th>\n",
       "      <td>5.0631</td>\n",
       "      <td>101869.0</td>\n",
       "    </tr>\n",
       "  </tbody>\n",
       "</table>\n",
       "</div>"
      ],
      "text/plain": [
       "             Dolar  Ibovespa\n",
       "Date                        \n",
       "2022-12-31  5.2668  110031.0\n",
       "2023-12-31  5.0631  101869.0"
      ]
     },
     "execution_count": 5,
     "metadata": {},
     "output_type": "execute_result"
    }
   ],
   "source": [
    "dados_fechamento_mensal = dados_fechamento.resample('M').last()\n",
    "dados_fechamento_anual = dados_fechamento.resample('Y').last()\n",
    "\n",
    "dados_fechamento_anual"
   ]
  },
  {
   "attachments": {},
   "cell_type": "markdown",
   "metadata": {},
   "source": [
    "Passo 4: Calcular fechamento do dia anterior, retorno do mes e retorno no ano"
   ]
  },
  {
   "cell_type": "code",
   "execution_count": 6,
   "metadata": {},
   "outputs": [
    {
     "data": {
      "text/html": [
       "<div>\n",
       "<style scoped>\n",
       "    .dataframe tbody tr th:only-of-type {\n",
       "        vertical-align: middle;\n",
       "    }\n",
       "\n",
       "    .dataframe tbody tr th {\n",
       "        vertical-align: top;\n",
       "    }\n",
       "\n",
       "    .dataframe thead th {\n",
       "        text-align: right;\n",
       "    }\n",
       "</style>\n",
       "<table border=\"1\" class=\"dataframe\">\n",
       "  <thead>\n",
       "    <tr style=\"text-align: right;\">\n",
       "      <th></th>\n",
       "      <th>Dolar</th>\n",
       "      <th>Ibovespa</th>\n",
       "    </tr>\n",
       "    <tr>\n",
       "      <th>Date</th>\n",
       "      <th></th>\n",
       "      <th></th>\n",
       "    </tr>\n",
       "  </thead>\n",
       "  <tbody>\n",
       "    <tr>\n",
       "      <th>2022-04-06</th>\n",
       "      <td>0.012386</td>\n",
       "      <td>-0.005526</td>\n",
       "    </tr>\n",
       "    <tr>\n",
       "      <th>2022-04-07</th>\n",
       "      <td>0.013869</td>\n",
       "      <td>0.005363</td>\n",
       "    </tr>\n",
       "    <tr>\n",
       "      <th>2022-04-08</th>\n",
       "      <td>0.007826</td>\n",
       "      <td>-0.004543</td>\n",
       "    </tr>\n",
       "    <tr>\n",
       "      <th>2022-04-11</th>\n",
       "      <td>-0.011363</td>\n",
       "      <td>-0.011570</td>\n",
       "    </tr>\n",
       "    <tr>\n",
       "      <th>2022-04-12</th>\n",
       "      <td>-0.000958</td>\n",
       "      <td>-0.006892</td>\n",
       "    </tr>\n",
       "    <tr>\n",
       "      <th>...</th>\n",
       "      <td>...</td>\n",
       "      <td>...</td>\n",
       "    </tr>\n",
       "    <tr>\n",
       "      <th>2023-03-29</th>\n",
       "      <td>-0.006292</td>\n",
       "      <td>0.006009</td>\n",
       "    </tr>\n",
       "    <tr>\n",
       "      <th>2023-03-30</th>\n",
       "      <td>-0.005848</td>\n",
       "      <td>0.018862</td>\n",
       "    </tr>\n",
       "    <tr>\n",
       "      <th>2023-03-31</th>\n",
       "      <td>-0.008083</td>\n",
       "      <td>-0.017654</td>\n",
       "    </tr>\n",
       "    <tr>\n",
       "      <th>2023-04-03</th>\n",
       "      <td>-0.005969</td>\n",
       "      <td>-0.003691</td>\n",
       "    </tr>\n",
       "    <tr>\n",
       "      <th>2023-04-04</th>\n",
       "      <td>0.000158</td>\n",
       "      <td>0.003576</td>\n",
       "    </tr>\n",
       "  </tbody>\n",
       "</table>\n",
       "<p>250 rows × 2 columns</p>\n",
       "</div>"
      ],
      "text/plain": [
       "               Dolar  Ibovespa\n",
       "Date                          \n",
       "2022-04-06  0.012386 -0.005526\n",
       "2022-04-07  0.013869  0.005363\n",
       "2022-04-08  0.007826 -0.004543\n",
       "2022-04-11 -0.011363 -0.011570\n",
       "2022-04-12 -0.000958 -0.006892\n",
       "...              ...       ...\n",
       "2023-03-29 -0.006292  0.006009\n",
       "2023-03-30 -0.005848  0.018862\n",
       "2023-03-31 -0.008083 -0.017654\n",
       "2023-04-03 -0.005969 -0.003691\n",
       "2023-04-04  0.000158  0.003576\n",
       "\n",
       "[250 rows x 2 columns]"
      ]
     },
     "execution_count": 6,
     "metadata": {},
     "output_type": "execute_result"
    }
   ],
   "source": [
    "retorno_no_ano = dados_fechamento_anual.pct_change().dropna()\n",
    "retorno_no_mes = dados_fechamento_mensal.pct_change().dropna()\n",
    "retorno_no_dia = dados_fechamento.pct_change().dropna()\n",
    "\n",
    "retorno_no_dia"
   ]
  },
  {
   "attachments": {},
   "cell_type": "markdown",
   "metadata": {},
   "source": [
    "Passo 5: localizar o fechamento do dia anterior, retorno no mes e retorno no ano"
   ]
  },
  {
   "cell_type": "code",
   "execution_count": 7,
   "metadata": {},
   "outputs": [],
   "source": [
    "retorno_dia_dolar  = retorno_no_dia.iloc[-1,0]\n",
    "retorno_dia_ibovespa  = retorno_no_dia.iloc[-1,1]\n",
    "\n",
    "retorno_mes_dolar  = retorno_no_mes.iloc[-1,0]\n",
    "retorno_mes_ibovespa  = retorno_no_mes.iloc[-1,1]\n",
    "\n",
    "retorno_ano_dolar  = retorno_no_ano.iloc[-1,0]\n",
    "retorno_ano_ibovespa  = retorno_no_ano.iloc[-1,1]\n"
   ]
  },
  {
   "cell_type": "code",
   "execution_count": 8,
   "metadata": {},
   "outputs": [
    {
     "data": {
      "text/plain": [
       "36.0"
      ]
     },
     "execution_count": 8,
     "metadata": {},
     "output_type": "execute_result"
    }
   ],
   "source": [
    "retorno_dia_dolar  = round(retorno_dia_dolar * 100, 2)\n",
    "retorno_dia_ibovespa  = round(retorno_dia_ibovespa * 100, 2)\n",
    "\n",
    "retorno_mes_dolar  = round(retorno_mes_dolar * 100, 2) \n",
    "retorno_mes_ibovespa  = round(retorno_mes_ibovespa * 100, 2)\n",
    "\n",
    "retorno_ano_dolar  = round(retorno_ano_dolar * 100, 2) \n",
    "retorno_ano_ibovespa  = round(retorno_dia_ibovespa * 100, 2) \n",
    "\n",
    "retorno_ano_ibovespa"
   ]
  },
  {
   "attachments": {},
   "cell_type": "markdown",
   "metadata": {},
   "source": [
    "Passo 6: fazer os graficos da performance do ultimo ano dos ativos"
   ]
  },
  {
   "cell_type": "code",
   "execution_count": 9,
   "metadata": {},
   "outputs": [
    {
     "data": {
      "image/png": "[encoded data removed]",
      "text/plain": [
       "<Figure size 640x480 with 1 Axes>"
      ]
     },
     "metadata": {},
     "output_type": "display_data"
    }
   ],
   "source": [
    "plt.style.use('cyberpunk')\n",
    "dados_fechamento.plot(y = 'Ibovespa', use_index = True, legend = False)\n",
    "plt.title('Ibovespa')\n",
    "plt.savefig('ibovespa.png', dpi=300)\n",
    "plt.show()"
   ]
  },
  {
   "cell_type": "code",
   "execution_count": 10,
   "metadata": {},
   "outputs": [
    {
     "data": {
      "image/png": "[encoded data removed]",
      "text/plain": [
       "<Figure size 640x480 with 1 Axes>"
      ]
     },
     "metadata": {},
     "output_type": "display_data"
    }
   ],
   "source": [
    "plt.style.use('cyberpunk')\n",
    "dados_fechamento.plot(y = 'Dolar', use_index = True, legend = False)\n",
    "plt.title('Dolar')\n",
    "plt.savefig('dolar.png', dpi=300)\n",
    "plt.show()"
   ]
  },
  {
   "attachments": {},
   "cell_type": "markdown",
   "metadata": {},
   "source": [
    "Passo 7:  Enviar o Email"
   ]
  },
  {
   "cell_type": "code",
   "execution_count": 11,
   "metadata": {},
   "outputs": [],
   "source": [
    "import os\n",
    "from dotenv import load_dotenv"
   ]
  },
  {
   "cell_type": "code",
   "execution_count": 12,
   "metadata": {},
   "outputs": [
    {
     "data": {
      "text/plain": [
       "True"
      ]
     },
     "execution_count": 12,
     "metadata": {},
     "output_type": "execute_result"
    }
   ],
   "source": [
    "load_dotenv()"
   ]
  },
  {
   "cell_type": "code",
   "execution_count": 13,
   "metadata": {},
   "outputs": [],
   "source": [
    "senha = os.environ.get('senha')\n",
    "email = 'belmontprogramador@gmail.com'\n",
    " \n"
   ]
  },
  {
   "cell_type": "code",
   "execution_count": 14,
   "metadata": {},
   "outputs": [
    {
     "data": {
      "text/plain": [
       "36.0"
      ]
     },
     "execution_count": 14,
     "metadata": {},
     "output_type": "execute_result"
    }
   ],
   "source": [
    "retorno_ano_ibovespa"
   ]
  },
  {
   "cell_type": "code",
   "execution_count": 15,
   "metadata": {},
   "outputs": [],
   "source": [
    "msg = EmailMessage()\n",
    "msg['Subject'] = \"Enviando e-mail com o Python\"\n",
    "msg['From'] = 'belmontprogramador.com'\n",
    "msg['To'] = 'eutradereal@gmail.com'\n",
    "\n",
    "msg.set_content(f'''Prezado diretor, segue o relatório diário:\n",
    "\n",
    "Bolsa:\n",
    "\n",
    "No ano o Ibovespa está tendo uma rentabilidade de {retorno_ano_ibovespa}%, \n",
    "enquanto no mês a rentabilidade é de {retorno_mes_ibovespa}%.\n",
    "\n",
    "No último dia útil, o fechamento do Ibovespa foi de {retorno_dia_ibovespa}%.\n",
    "\n",
    "Dólar:\n",
    "\n",
    "No ano o Dólar está tendo uma rentabilidade de {retorno_ano_dolar}%, \n",
    "enquanto no mês a rentabilidade é de {retorno_mes_dolar}%.\n",
    "\n",
    "No último dia útil, o fechamento do Dólar foi de {retorno_dia_dolar}%.\n",
    "\n",
    "\n",
    "Abs,\n",
    "\n",
    "O melhor estagiário do mundo\n",
    "\n",
    "''')"
   ]
  },
  {
   "cell_type": "code",
   "execution_count": 16,
   "metadata": {},
   "outputs": [],
   "source": [
    "with open('dolar.png', 'rb') as content_file:\n",
    "    content = content_file.read()\n",
    "    msg.add_attachment(content, maintype='application', subtype='png', filename='dolar.png')\n",
    "    \n",
    "    \n",
    "with open('ibovespa.png', 'rb') as content_file:\n",
    "    content = content_file.read()\n",
    "    msg.add_attachment(content, maintype='application', subtype='png', filename='ibovespa.png')"
   ]
  },
  {
   "cell_type": "code",
   "execution_count": 17,
   "metadata": {},
   "outputs": [],
   "source": [
    "with smtplib.SMTP_SSL('smtp.gmail.com', 465) as smtp:\n",
    "    \n",
    "    smtp.login(email, senha)\n",
    "    smtp.send_message(msg)"
   ]
  }
 ],
 "metadata": {
  "kernelspec": {
   "display_name": "Python 3",
   "language": "python",
   "name": "python3"
  },
  "language_info": {
   "codemirror_mode": {
    "name": "ipython",
    "version": 3
   },
   "file_extension": ".py",
   "mimetype": "text/x-python",
   "name": "python",
   "nbconvert_exporter": "python",
   "pygments_lexer": "ipython3",
   "version": "3.10.7"
  },
  "orig_nbformat": 4
 },
 "nbformat": 4,
 "nbformat_minor": 2
}
